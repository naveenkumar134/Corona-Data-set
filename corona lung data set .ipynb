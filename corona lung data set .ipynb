{
 "cells": [
  {
   "cell_type": "code",
   "execution_count": 1,
   "metadata": {
    "id": "R-ZiWHN1NI0s"
   },
   "outputs": [],
   "source": [
    "from google.colab import drive"
   ]
  },
  {
   "cell_type": "code",
   "execution_count": 3,
   "metadata": {
    "colab": {
     "base_uri": "https://localhost:8080/"
    },
    "id": "iUBWZ1_xNQoV",
    "outputId": "7cb481ed-07eb-4117-a75d-59c904c05625"
   },
   "outputs": [
    {
     "name": "stdout",
     "output_type": "stream",
     "text": [
      "Drive already mounted at /content/drive; to attempt to forcibly remount, call drive.mount(\"/content/drive\", force_remount=True).\n"
     ]
    }
   ],
   "source": [
    "drive.mount('/content/drive')"
   ]
  },
  {
   "cell_type": "code",
   "execution_count": 4,
   "metadata": {
    "id": "LEA_A4J9mnhp"
   },
   "outputs": [],
   "source": [
    "!pip install -q keras"
   ]
  },
  {
   "cell_type": "code",
   "execution_count": 5,
   "metadata": {
    "id": "OVCTzXPem1eR"
   },
   "outputs": [],
   "source": [
    "import keras"
   ]
  },
  {
   "cell_type": "code",
   "execution_count": 6,
   "metadata": {
    "id": "sI4mG5zvm8iS"
   },
   "outputs": [],
   "source": [
    "import tensorflow as tf\n",
    "import matplotlib.pyplot as plt\n",
    "import pandas as pd\n",
    "import numpy as np\n",
    "from keras.layers import Dense, \n",
    "from keras.layers import Conv2D, \n",
    "from keras.layers import MaxPool2D,\n",
    "from keras.layers import Dropout,\n",
    "from keras.layers import Flatten,\n",
    "from keras.layers import BatchNormalization, \n",
    "from keras.layers import ZeroPadding2D\n",
    "from keras.models import Sequential\n",
    "from keras.preprocessing import image"
   ]
  },
  {
   "cell_type": "code",
   "execution_count": 7,
   "metadata": {
    "colab": {
     "base_uri": "https://localhost:8080/"
    },
    "id": "ygDWuGlcnK7y",
    "outputId": "fa060a4e-f32d-422e-f5f4-4d467777cbe9"
   },
   "outputs": [
    {
     "name": "stdout",
     "output_type": "stream",
     "text": [
      "Found 151 images belonging to 1 classes.\n",
      "Found 151 images belonging to 1 classes.\n"
     ]
    }
   ],
   "source": [
    "trgen=image.ImageDataGenerator(rescale=1/255)\n",
    "vagen=image.ImageDataGenerator(rescale=1/255)\n",
    "traindata=trgen.flow_from_directory('/content/drive/MyDrive/coronalung/train',\n",
    "                                         target_size=(256,256),batch_size=2)\n",
    "valdata=vagen.flow_from_directory(\"/content/drive/MyDrive/coronalung/test\",\n",
    "                                         target_size=(256,256),batch_size=16,class_mode='binary')"
   ]
  },
  {
   "cell_type": "code",
   "execution_count": 8,
   "metadata": {
    "id": "jDlB6bsOoZbJ"
   },
   "outputs": [],
   "source": [
    "model=Sequential()\n",
    "import tensorflow as tf\n",
    "\n",
    "model.add(Conv2D(filters=32,kernel_size=(3,3),activation='relu',input_shape=(256,256,3)))\n",
    "model.add(Conv2D(filters=64,kernel_size=(3,3),activation='relu'))\n",
    "model.add(MaxPool2D())\n",
    "model.add(Dropout(rate=0.2))\n",
    "\n",
    "model.add(Conv2D(filters=64,kernel_size=(3,3),activation='relu'))\n",
    "model.add(MaxPool2D())\n",
    "model.add(Dropout(rate=0.5))\n",
    "\n",
    "model.add(Conv2D(filters=128,kernel_size=(3,3),activation='relu'))\n",
    "model.add(MaxPool2D())\n",
    "model.add(Dropout(rate=0.75))\n",
    "\n",
    "model.add(Flatten())\n",
    "model.add(Dense(units=64,activation='relu'))\n",
    "model.add(Dropout(rate=0.50))\n",
    "model.add(Dense(units=1,activation='sigmoid'))"
   ]
  },
  {
   "cell_type": "code",
   "execution_count": 9,
   "metadata": {
    "colab": {
     "base_uri": "https://localhost:8080/"
    },
    "id": "NYtxsq3QojUx",
    "outputId": "9db6dcd9-df6a-40be-bcfc-f4671f665c84"
   },
   "outputs": [
    {
     "name": "stdout",
     "output_type": "stream",
     "text": [
      "Model: \"sequential\"\n",
      "_________________________________________________________________\n",
      " Layer (type)                Output Shape              Param #   \n",
      "=================================================================\n",
      " conv2d (Conv2D)             (None, 254, 254, 32)      896       \n",
      "                                                                 \n",
      " conv2d_1 (Conv2D)           (None, 252, 252, 64)      18496     \n",
      "                                                                 \n",
      " max_pooling2d (MaxPooling2D  (None, 126, 126, 64)     0         \n",
      " )                                                               \n",
      "                                                                 \n",
      " dropout (Dropout)           (None, 126, 126, 64)      0         \n",
      "                                                                 \n",
      " conv2d_2 (Conv2D)           (None, 124, 124, 64)      36928     \n",
      "                                                                 \n",
      " max_pooling2d_1 (MaxPooling  (None, 62, 62, 64)       0         \n",
      " 2D)                                                             \n",
      "                                                                 \n",
      " dropout_1 (Dropout)         (None, 62, 62, 64)        0         \n",
      "                                                                 \n",
      " conv2d_3 (Conv2D)           (None, 60, 60, 128)       73856     \n",
      "                                                                 \n",
      " max_pooling2d_2 (MaxPooling  (None, 30, 30, 128)      0         \n",
      " 2D)                                                             \n",
      "                                                                 \n",
      " dropout_2 (Dropout)         (None, 30, 30, 128)       0         \n",
      "                                                                 \n",
      " flatten (Flatten)           (None, 115200)            0         \n",
      "                                                                 \n",
      " dense (Dense)               (None, 64)                7372864   \n",
      "                                                                 \n",
      " dropout_3 (Dropout)         (None, 64)                0         \n",
      "                                                                 \n",
      " dense_1 (Dense)             (None, 1)                 65        \n",
      "                                                                 \n",
      "=================================================================\n",
      "Total params: 7,503,105\n",
      "Trainable params: 7,503,105\n",
      "Non-trainable params: 0\n",
      "_________________________________________________________________\n"
     ]
    }
   ],
   "source": [
    "model.summary()"
   ]
  },
  {
   "cell_type": "code",
   "execution_count": 10,
   "metadata": {
    "id": "TGhy6BJzowYs"
   },
   "outputs": [],
   "source": [
    "model.compile(optimizer='adam',loss='binary_crossentropy', metrics=['accuracy'])"
   ]
  },
  {
   "cell_type": "code",
   "execution_count": 13,
   "metadata": {
    "colab": {
     "base_uri": "https://localhost:8080/"
    },
    "id": "gl29eyeQo1ZO",
    "outputId": "bdde9ac0-da3f-446b-bec7-0c9855e74c22"
   },
   "outputs": [
    {
     "name": "stdout",
     "output_type": "stream",
     "text": [
      "Epoch 1/50\n"
     ]
    },
    {
     "name": "stderr",
     "output_type": "stream",
     "text": [
      "/usr/local/lib/python3.7/dist-packages/ipykernel_launcher.py:1: UserWarning: `Model.fit_generator` is deprecated and will be removed in a future version. Please use `Model.fit`, which supports generators.\n",
      "  \"\"\"Entry point for launching an IPython kernel.\n"
     ]
    },
    {
     "name": "stdout",
     "output_type": "stream",
     "text": [
      "50/50 [==============================] - 61s 1s/step - loss: 0.0000e+00 - accuracy: 1.0000 - val_loss: 144.3197 - val_accuracy: 0.0000e+00\n",
      "Epoch 2/50\n",
      "50/50 [==============================] - 59s 1s/step - loss: 3.0706e-33 - accuracy: 1.0000 - val_loss: 144.3197 - val_accuracy: 0.0000e+00\n",
      "Epoch 3/50\n",
      "50/50 [==============================] - 60s 1s/step - loss: 0.0000e+00 - accuracy: 1.0000 - val_loss: 144.3197 - val_accuracy: 0.0000e+00\n",
      "Epoch 4/50\n",
      "50/50 [==============================] - 60s 1s/step - loss: 0.0000e+00 - accuracy: 1.0000 - val_loss: 144.3197 - val_accuracy: 0.0000e+00\n",
      "Epoch 5/50\n",
      "50/50 [==============================] - 59s 1s/step - loss: 0.0000e+00 - accuracy: 1.0000 - val_loss: 144.3197 - val_accuracy: 0.0000e+00\n",
      "Epoch 6/50\n",
      "50/50 [==============================] - 62s 1s/step - loss: 0.0000e+00 - accuracy: 1.0000 - val_loss: 144.3197 - val_accuracy: 0.0000e+00\n",
      "Epoch 7/50\n",
      "50/50 [==============================] - 58s 1s/step - loss: 5.5786e-36 - accuracy: 1.0000 - val_loss: 144.3197 - val_accuracy: 0.0000e+00\n",
      "Epoch 8/50\n",
      "50/50 [==============================] - 60s 1s/step - loss: 2.1228e-25 - accuracy: 1.0000 - val_loss: 144.3197 - val_accuracy: 0.0000e+00\n",
      "Epoch 9/50\n",
      "50/50 [==============================] - 62s 1s/step - loss: 1.2752e-34 - accuracy: 1.0000 - val_loss: 144.3197 - val_accuracy: 0.0000e+00\n",
      "Epoch 10/50\n",
      "50/50 [==============================] - 61s 1s/step - loss: 0.0000e+00 - accuracy: 1.0000 - val_loss: 144.3197 - val_accuracy: 0.0000e+00\n",
      "Epoch 11/50\n",
      "50/50 [==============================] - 60s 1s/step - loss: 0.0000e+00 - accuracy: 1.0000 - val_loss: 144.3197 - val_accuracy: 0.0000e+00\n",
      "Epoch 12/50\n",
      "50/50 [==============================] - 60s 1s/step - loss: 0.0000e+00 - accuracy: 1.0000 - val_loss: 144.3197 - val_accuracy: 0.0000e+00\n",
      "Epoch 13/50\n",
      "50/50 [==============================] - 60s 1s/step - loss: 8.3664e-38 - accuracy: 1.0000 - val_loss: 144.3197 - val_accuracy: 0.0000e+00\n",
      "Epoch 14/50\n",
      "50/50 [==============================] - 61s 1s/step - loss: 5.1821e-35 - accuracy: 1.0000 - val_loss: 144.3197 - val_accuracy: 0.0000e+00\n",
      "Epoch 15/50\n",
      "50/50 [==============================] - 60s 1s/step - loss: 2.7383e-33 - accuracy: 1.0000 - val_loss: 144.3197 - val_accuracy: 0.0000e+00\n",
      "Epoch 16/50\n",
      "50/50 [==============================] - 60s 1s/step - loss: 0.0000e+00 - accuracy: 1.0000 - val_loss: 144.3197 - val_accuracy: 0.0000e+00\n",
      "Epoch 17/50\n",
      "50/50 [==============================] - 60s 1s/step - loss: 2.9720e-38 - accuracy: 1.0000 - val_loss: 144.3197 - val_accuracy: 0.0000e+00\n",
      "Epoch 18/50\n",
      "50/50 [==============================] - 59s 1s/step - loss: 0.0000e+00 - accuracy: 1.0000 - val_loss: 144.3197 - val_accuracy: 0.0000e+00\n",
      "Epoch 19/50\n",
      "50/50 [==============================] - 59s 1s/step - loss: 0.0000e+00 - accuracy: 1.0000 - val_loss: 144.3197 - val_accuracy: 0.0000e+00\n",
      "Epoch 20/50\n",
      "50/50 [==============================] - 59s 1s/step - loss: 0.0000e+00 - accuracy: 1.0000 - val_loss: 144.3197 - val_accuracy: 0.0000e+00\n",
      "Epoch 21/50\n",
      "50/50 [==============================] - 60s 1s/step - loss: 0.0000e+00 - accuracy: 1.0000 - val_loss: 144.3197 - val_accuracy: 0.0000e+00\n",
      "Epoch 22/50\n",
      "50/50 [==============================] - 59s 1s/step - loss: 0.0000e+00 - accuracy: 1.0000 - val_loss: 144.3197 - val_accuracy: 0.0000e+00\n",
      "Epoch 23/50\n",
      "50/50 [==============================] - 61s 1s/step - loss: 0.0000e+00 - accuracy: 1.0000 - val_loss: 144.3197 - val_accuracy: 0.0000e+00\n",
      "Epoch 24/50\n",
      "50/50 [==============================] - 60s 1s/step - loss: 0.0000e+00 - accuracy: 1.0000 - val_loss: 144.3197 - val_accuracy: 0.0000e+00\n",
      "Epoch 25/50\n",
      "50/50 [==============================] - 60s 1s/step - loss: 0.0000e+00 - accuracy: 1.0000 - val_loss: 144.3197 - val_accuracy: 0.0000e+00\n",
      "Epoch 26/50\n",
      "50/50 [==============================] - 60s 1s/step - loss: 0.0000e+00 - accuracy: 1.0000 - val_loss: 144.3197 - val_accuracy: 0.0000e+00\n",
      "Epoch 27/50\n",
      "50/50 [==============================] - 60s 1s/step - loss: 0.0000e+00 - accuracy: 1.0000 - val_loss: 144.3197 - val_accuracy: 0.0000e+00\n",
      "Epoch 28/50\n",
      "50/50 [==============================] - 59s 1s/step - loss: 0.0000e+00 - accuracy: 1.0000 - val_loss: 144.3197 - val_accuracy: 0.0000e+00\n",
      "Epoch 29/50\n",
      "50/50 [==============================] - 58s 1s/step - loss: 8.7238e-31 - accuracy: 1.0000 - val_loss: 144.3197 - val_accuracy: 0.0000e+00\n",
      "Epoch 30/50\n",
      "50/50 [==============================] - 61s 1s/step - loss: 2.5921e-34 - accuracy: 1.0000 - val_loss: 144.3197 - val_accuracy: 0.0000e+00\n",
      "Epoch 31/50\n",
      "50/50 [==============================] - 58s 1s/step - loss: 0.0000e+00 - accuracy: 1.0000 - val_loss: 144.3197 - val_accuracy: 0.0000e+00\n",
      "Epoch 32/50\n",
      "50/50 [==============================] - 58s 1s/step - loss: 0.0000e+00 - accuracy: 1.0000 - val_loss: 144.3197 - val_accuracy: 0.0000e+00\n",
      "Epoch 33/50\n",
      "50/50 [==============================] - 59s 1s/step - loss: 2.1862e-36 - accuracy: 1.0000 - val_loss: 144.3197 - val_accuracy: 0.0000e+00\n",
      "Epoch 34/50\n",
      "50/50 [==============================] - 60s 1s/step - loss: 1.2728e-35 - accuracy: 1.0000 - val_loss: 144.3197 - val_accuracy: 0.0000e+00\n",
      "Epoch 35/50\n",
      "50/50 [==============================] - 60s 1s/step - loss: 2.6965e-36 - accuracy: 1.0000 - val_loss: 144.3197 - val_accuracy: 0.0000e+00\n",
      "Epoch 36/50\n",
      "50/50 [==============================] - 60s 1s/step - loss: 0.0000e+00 - accuracy: 1.0000 - val_loss: 144.3197 - val_accuracy: 0.0000e+00\n",
      "Epoch 37/50\n",
      "50/50 [==============================] - 58s 1s/step - loss: 5.9638e-35 - accuracy: 1.0000 - val_loss: 144.3197 - val_accuracy: 0.0000e+00\n",
      "Epoch 38/50\n",
      "50/50 [==============================] - 59s 1s/step - loss: 0.0000e+00 - accuracy: 1.0000 - val_loss: 144.3197 - val_accuracy: 0.0000e+00\n",
      "Epoch 39/50\n",
      "50/50 [==============================] - 59s 1s/step - loss: 1.3930e-31 - accuracy: 1.0000 - val_loss: 144.3197 - val_accuracy: 0.0000e+00\n",
      "Epoch 40/50\n",
      "50/50 [==============================] - 59s 1s/step - loss: 0.0000e+00 - accuracy: 1.0000 - val_loss: 144.3197 - val_accuracy: 0.0000e+00\n",
      "Epoch 41/50\n",
      "50/50 [==============================] - 60s 1s/step - loss: 0.0000e+00 - accuracy: 1.0000 - val_loss: 144.3197 - val_accuracy: 0.0000e+00\n",
      "Epoch 42/50\n",
      "50/50 [==============================] - 60s 1s/step - loss: 0.0000e+00 - accuracy: 1.0000 - val_loss: 144.3197 - val_accuracy: 0.0000e+00\n",
      "Epoch 43/50\n",
      "50/50 [==============================] - 60s 1s/step - loss: 6.6326e-30 - accuracy: 1.0000 - val_loss: 144.3197 - val_accuracy: 0.0000e+00\n",
      "Epoch 44/50\n",
      "50/50 [==============================] - 60s 1s/step - loss: 0.0000e+00 - accuracy: 1.0000 - val_loss: 144.3197 - val_accuracy: 0.0000e+00\n",
      "Epoch 45/50\n",
      "50/50 [==============================] - 59s 1s/step - loss: 0.0000e+00 - accuracy: 1.0000 - val_loss: 144.3197 - val_accuracy: 0.0000e+00\n",
      "Epoch 46/50\n",
      "50/50 [==============================] - 59s 1s/step - loss: 4.8438e-29 - accuracy: 1.0000 - val_loss: 144.3197 - val_accuracy: 0.0000e+00\n",
      "Epoch 47/50\n",
      "50/50 [==============================] - 60s 1s/step - loss: 0.0000e+00 - accuracy: 1.0000 - val_loss: 144.3197 - val_accuracy: 0.0000e+00\n",
      "Epoch 48/50\n",
      "50/50 [==============================] - 58s 1s/step - loss: 0.0000e+00 - accuracy: 1.0000 - val_loss: 144.3197 - val_accuracy: 0.0000e+00\n",
      "Epoch 49/50\n",
      "50/50 [==============================] - 64s 1s/step - loss: 0.0000e+00 - accuracy: 1.0000 - val_loss: 144.3197 - val_accuracy: 0.0000e+00\n",
      "Epoch 50/50\n",
      "50/50 [==============================] - 58s 1s/step - loss: 4.9379e-32 - accuracy: 1.0000 - val_loss: 144.3197 - val_accuracy: 0.0000e+00\n"
     ]
    }
   ],
   "source": [
    "k=model.fit_generator(data_train,steps_per_epoch=50,epochs=50,validation_data=data_val)"
   ]
  },
  {
   "cell_type": "code",
   "execution_count": 25,
   "metadata": {
    "id": "OuKJGCCw4Cr0"
   },
   "outputs": [],
   "source": [
    "k1=k.history"
   ]
  },
  {
   "cell_type": "code",
   "execution_count": 27,
   "metadata": {
    "colab": {
     "base_uri": "https://localhost:8080/"
    },
    "id": "bihalrx94NdB",
    "outputId": "a06152cf-1e1d-43d3-f88e-1687c5934459"
   },
   "outputs": [
    {
     "data": {
      "text/plain": [
       "dict_keys(['loss', 'accuracy', 'val_loss', 'val_accuracy'])"
      ]
     },
     "execution_count": 27,
     "metadata": {},
     "output_type": "execute_result"
    }
   ],
   "source": [
    "k1.keys()"
   ]
  },
  {
   "cell_type": "code",
   "execution_count": 31,
   "metadata": {
    "colab": {
     "base_uri": "https://localhost:8080/",
     "height": 265
    },
    "id": "zfHUD0-85fJT",
    "outputId": "895a9139-df92-435e-cf8e-1fcfd04959b9"
   },
   "outputs": [
    {
     "data": {
      "image/png": "[encoded data removed]",
      "text/plain": [
       "<Figure size 432x288 with 1 Axes>"
      ]
     },
     "metadata": {
      "needs_background": "light"
     },
     "output_type": "display_data"
    }
   ],
   "source": [
    "plt.plot(k1['accuracy'])\n",
    "plt.plot(k1['val_loss'],c=\"red\")\n",
    "plt.show()"
   ]
  },
  {
   "cell_type": "code",
   "execution_count": 33,
   "metadata": {
    "colab": {
     "base_uri": "https://localhost:8080/",
     "height": 265
    },
    "id": "jL9CTQnY54DX",
    "outputId": "1dc99164-dbc2-477c-e2f9-1709bc9111f2"
   },
   "outputs": [
    {
     "data": {
      "image/png": "[encoded data removed]",
      "text/plain": [
       "<Figure size 432x288 with 1 Axes>"
      ]
     },
     "metadata": {
      "needs_background": "light"
     },
     "output_type": "display_data"
    }
   ],
   "source": [
    "plt.bar(k1['accuracy'],k1['val_loss'])\n",
    "plt.show()"
   ]
  }
 ],
 "metadata": {
  "colab": {
   "collapsed_sections": [],
   "name": "Corona Lung Data Set.ipynb",
   "provenance": []
  },
  "kernelspec": {
   "display_name": "Python 3 (ipykernel)",
   "language": "python",
   "name": "python3"
  },
  "language_info": {
   "codemirror_mode": {
    "name": "ipython",
    "version": 3
   },
   "file_extension": ".py",
   "mimetype": "text/x-python",
   "name": "python",
   "nbconvert_exporter": "python",
   "pygments_lexer": "ipython3",
   "version": "3.9.12"
  }
 },
 "nbformat": 4,
 "nbformat_minor": 1
}
